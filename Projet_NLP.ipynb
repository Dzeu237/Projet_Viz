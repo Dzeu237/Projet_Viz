{
 "cells": [
  {
   "cell_type": "markdown",
   "metadata": {},
   "source": [
    "*_Pour ce Projet nous allons utiliser la bibliotheque Spacy_*\n",
    "La tendance montre une adoption croissante de spaCy pour les nouveaux projets, particulièrement en entreprise, SpaCy est plus utilisé dans :\n",
    "\n",
    "* Les environnements de production/entreprise\n",
    "* Les applications commerciales\n",
    "* Les projets nécessitant un traitement rapide\n",
    "* Les startups et grandes entreprises tech"
   ]
  },
  {
   "cell_type": "code",
   "execution_count": 13,
   "metadata": {},
   "outputs": [],
   "source": [
    "import spacy\n",
    "! python -m spacy download en\n",
    "! python -m spacy download fr"
   ]
  },
  {
   "cell_type": "code",
   "execution_count": 14,
   "metadata": {},
   "outputs": [],
   "source": [
    "# Load English/French Tokenizer, tagger, parser, NER\n",
    "fr_nlp = spacy.load('fr_core_news_sm')\n",
    "eng_nlp = spacy.load('en_core_web_sm')"
   ]
  },
  {
   "cell_type": "code",
   "execution_count": 28,
   "metadata": {},
   "outputs": [],
   "source": [
    "text1=(\"Quand Sebastian Thrun a commencé à travailler sur des voitures autonomes chez \",\"Les constructeurs automobiles me serraient la main et se détournaient parce que je ne l'étais pas\",\"ça vaut la peine d en parler, a déclaré Thrun, dans une interview avec Recode plus tôt  cette semaine.\")\n",
    "text2=(\"When Sebastian Thrun started working on self-driving cars at Google in 2007\",\"Few people outside of the company took him seriously.\",\"“I can tell you very senior CEOs of major American car companies would shake my hand and turn away because I wasn’t worth talking to,” said Thrun.\",\"In an interview with Recode earlier this week.\")"
   ]
  },
  {
   "cell_type": "code",
   "execution_count": null,
   "metadata": {},
   "outputs": [
    {
     "name": "stdout",
     "output_type": "stream",
     "text": [
      "[('Quand', 'SCONJ'), ('Sebastian', 'PROPN'), ('Thrun', 'PROPN'), ('a', 'AUX'), ('commencé', 'VERB'), ('à', 'ADP'), ('travailler', 'VERB'), ('sur', 'ADP'), ('des', 'DET'), ('voitures', 'NOUN'), ('autonomes', 'NOUN'), ('chez', 'ADP')]\n",
      "[('Les', 'DET'), ('constructeurs', 'NOUN'), ('automobiles', 'ADJ'), ('me', 'PRON'), ('serraient', 'VERB'), ('la', 'DET'), ('main', 'NOUN'), ('et', 'CCONJ'), ('se', 'PRON'), ('détournaient', 'VERB'), ('parce', 'SCONJ'), ('que', 'SCONJ'), ('je', 'PRON'), ('ne', 'ADV'), (\"l'\", 'PRON'), ('étais', 'PROPN'), ('pas', 'ADV')]\n",
      "[('ça', 'PRON'), ('vaut', 'VERB'), ('la', 'DET'), ('peine', 'NOUN'), ('d', 'ADP'), ('en', 'PRON'), ('parler', 'VERB'), (',', 'PUNCT'), ('a', 'AUX'), ('déclaré', 'VERB'), ('Thrun', 'PROPN'), (',', 'PUNCT'), ('dans', 'ADP'), ('une', 'DET'), ('interview', 'NOUN'), ('avec', 'ADP'), ('Recode', 'PROPN'), ('plus', 'ADV'), ('tôt', 'ADV'), (' ', 'SPACE'), ('cette', 'DET'), ('semaine', 'NOUN'), ('.', 'PUNCT')]\n"
     ]
    }
   ],
   "source": [
    "#French NLP\n",
    "for text in text1:\n",
    "    print([(w.text, w.pos_) for w in fr_nlp(text)])"
   ]
  },
  {
   "cell_type": "code",
   "execution_count": 29,
   "metadata": {},
   "outputs": [
    {
     "name": "stdout",
     "output_type": "stream",
     "text": [
      "[('When', 'SCONJ'), ('Sebastian', 'PROPN'), ('Thrun', 'PROPN'), ('started', 'VERB'), ('working', 'VERB'), ('on', 'ADP'), ('self', 'NOUN'), ('-', 'PUNCT'), ('driving', 'VERB'), ('cars', 'NOUN'), ('at', 'ADP'), ('Google', 'PROPN'), ('in', 'ADP'), ('2007', 'NUM')]\n",
      "[('Few', 'ADJ'), ('people', 'NOUN'), ('outside', 'ADP'), ('of', 'ADP'), ('the', 'DET'), ('company', 'NOUN'), ('took', 'VERB'), ('him', 'PRON'), ('seriously', 'ADV'), ('.', 'PUNCT')]\n",
      "[('“', 'PUNCT'), ('I', 'PRON'), ('can', 'AUX'), ('tell', 'VERB'), ('you', 'PRON'), ('very', 'ADV'), ('senior', 'ADJ'), ('CEOs', 'NOUN'), ('of', 'ADP'), ('major', 'ADJ'), ('American', 'ADJ'), ('car', 'NOUN'), ('companies', 'NOUN'), ('would', 'AUX'), ('shake', 'VERB'), ('my', 'PRON'), ('hand', 'NOUN'), ('and', 'CCONJ'), ('turn', 'VERB'), ('away', 'ADV'), ('because', 'SCONJ'), ('I', 'PRON'), ('was', 'AUX'), ('n’t', 'PART'), ('worth', 'ADJ'), ('talking', 'VERB'), ('to', 'ADP'), (',', 'PUNCT'), ('”', 'PUNCT'), ('said', 'VERB'), ('Thrun', 'PROPN'), ('.', 'PUNCT')]\n",
      "[('In', 'ADP'), ('an', 'DET'), ('interview', 'NOUN'), ('with', 'ADP'), ('Recode', 'PROPN'), ('earlier', 'ADV'), ('this', 'DET'), ('week', 'NOUN'), ('.', 'PUNCT')]\n"
     ]
    },
    {
     "ename": "",
     "evalue": "",
     "output_type": "error",
     "traceback": [
      "\u001b[1;31mThe Kernel crashed while executing code in the current cell or a previous cell. \n",
      "\u001b[1;31mPlease review the code in the cell(s) to identify a possible cause of the failure. \n",
      "\u001b[1;31mClick <a href='https://aka.ms/vscodeJupyterKernelCrash'>here</a> for more info. \n",
      "\u001b[1;31mView Jupyter <a href='command:jupyter.viewOutput'>log</a> for further details."
     ]
    }
   ],
   "source": [
    "#English NLP\n",
    "for text in text2:\n",
    "    print([(w.text, w.pos_) for w in eng_nlp(text)])"
   ]
  }
 ],
 "metadata": {
  "kernelspec": {
   "display_name": "Python 3",
   "language": "python",
   "name": "python3"
  },
  "language_info": {
   "codemirror_mode": {
    "name": "ipython",
    "version": 3
   },
   "file_extension": ".py",
   "mimetype": "text/x-python",
   "name": "python",
   "nbconvert_exporter": "python",
   "pygments_lexer": "ipython3",
   "version": "3.12.8"
  }
 },
 "nbformat": 4,
 "nbformat_minor": 2
}
