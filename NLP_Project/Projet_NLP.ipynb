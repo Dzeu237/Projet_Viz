{
 "cells": [
  {
   "cell_type": "markdown",
   "metadata": {},
   "source": [
    "*_Pour ce Projet nous allons utiliser la bibliotheque Spacy_*\n",
    "La tendance montre une adoption croissante de spaCy pour les nouveaux projets, particulièrement en entreprise, SpaCy est plus utilisé dans :\n",
    "\n",
    "* Les environnements de production/entreprise\n",
    "* Les applications commerciales\n",
    "* Les projets nécessitant un traitement rapide\n",
    "* Les startups et grandes entreprises tech"
   ]
  },
  {
   "cell_type": "code",
   "execution_count": 1,
   "metadata": {},
   "outputs": [
    {
     "name": "stdout",
     "output_type": "stream",
     "text": [
      "\u001b[38;5;3m⚠ As of spaCy v3.0, shortcuts like 'en' are deprecated. Please use the\n",
      "full pipeline package name 'en_core_web_sm' instead.\u001b[0m\n",
      "Defaulting to user installation because normal site-packages is not writeable\n",
      "Collecting en-core-web-sm==3.8.0\n",
      "  Downloading https://github.com/explosion/spacy-models/releases/download/en_core_web_sm-3.8.0/en_core_web_sm-3.8.0-py3-none-any.whl (12.8 MB)\n",
      "     ---------------------------------------- 0.0/12.8 MB ? eta -:--:--\n",
      "     -- ------------------------------------- 0.8/12.8 MB 5.6 MB/s eta 0:00:03\n",
      "     ------ --------------------------------- 2.1/12.8 MB 5.9 MB/s eta 0:00:02\n",
      "     --------- ------------------------------ 3.1/12.8 MB 5.4 MB/s eta 0:00:02\n",
      "     ------------- -------------------------- 4.2/12.8 MB 5.2 MB/s eta 0:00:02\n",
      "     ------------------- -------------------- 6.3/12.8 MB 6.1 MB/s eta 0:00:02\n",
      "     ------------------------- -------------- 8.1/12.8 MB 6.7 MB/s eta 0:00:01\n",
      "     -------------------------------- ------- 10.5/12.8 MB 7.3 MB/s eta 0:00:01\n",
      "     ---------------------------------------  12.6/12.8 MB 7.7 MB/s eta 0:00:01\n",
      "     ---------------------------------------- 12.8/12.8 MB 7.4 MB/s eta 0:00:00\n",
      "\u001b[38;5;2m✔ Download and installation successful\u001b[0m\n",
      "You can now load the package via spacy.load('en_core_web_sm')\n"
     ]
    },
    {
     "name": "stderr",
     "output_type": "stream",
     "text": [
      "\n",
      "[notice] A new release of pip is available: 25.0 -> 25.0.1\n",
      "[notice] To update, run: C:\\Users\\gerar\\AppData\\Local\\Microsoft\\WindowsApps\\PythonSoftwareFoundation.Python.3.12_qbz5n2kfra8p0\\python.exe -m pip install --upgrade pip\n"
     ]
    },
    {
     "name": "stdout",
     "output_type": "stream",
     "text": [
      "\u001b[38;5;3m⚠ As of spaCy v3.0, shortcuts like 'fr' are deprecated. Please use the"
     ]
    },
    {
     "name": "stderr",
     "output_type": "stream",
     "text": [
      "\n",
      "[notice] A new release of pip is available: 25.0 -> 25.0.1\n",
      "[notice] To update, run: C:\\Users\\gerar\\AppData\\Local\\Microsoft\\WindowsApps\\PythonSoftwareFoundation.Python.3.12_qbz5n2kfra8p0\\python.exe -m pip install --upgrade pip\n"
     ]
    },
    {
     "name": "stdout",
     "output_type": "stream",
     "text": [
      "\n",
      "full pipeline package name 'fr_core_news_sm' instead.\u001b[0m\n",
      "Defaulting to user installation because normal site-packages is not writeable\n",
      "Collecting fr-core-news-sm==3.8.0\n",
      "  Downloading https://github.com/explosion/spacy-models/releases/download/fr_core_news_sm-3.8.0/fr_core_news_sm-3.8.0-py3-none-any.whl (16.3 MB)\n",
      "     ---------------------------------------- 0.0/16.3 MB ? eta -:--:--\n",
      "     -- ------------------------------------- 1.0/16.3 MB 5.6 MB/s eta 0:00:03\n",
      "     ----- ---------------------------------- 2.4/16.3 MB 6.1 MB/s eta 0:00:03\n",
      "     --------- ------------------------------ 3.7/16.3 MB 6.1 MB/s eta 0:00:03\n",
      "     ------------ --------------------------- 5.0/16.3 MB 6.2 MB/s eta 0:00:02\n",
      "     ---------------- ----------------------- 6.6/16.3 MB 6.4 MB/s eta 0:00:02\n",
      "     ------------------- -------------------- 7.9/16.3 MB 6.3 MB/s eta 0:00:02\n",
      "     ----------------------- ---------------- 9.4/16.3 MB 6.5 MB/s eta 0:00:02\n",
      "     --------------------------- ------------ 11.0/16.3 MB 6.5 MB/s eta 0:00:01\n",
      "     ------------------------------ --------- 12.6/16.3 MB 6.6 MB/s eta 0:00:01\n",
      "     ---------------------------------- ----- 14.2/16.3 MB 6.6 MB/s eta 0:00:01\n",
      "     -------------------------------------- - 15.7/16.3 MB 6.6 MB/s eta 0:00:01\n",
      "     ---------------------------------------- 16.3/16.3 MB 6.5 MB/s eta 0:00:00\n",
      "\u001b[38;5;2m✔ Download and installation successful\u001b[0m\n",
      "You can now load the package via spacy.load('fr_core_news_sm')\n"
     ]
    }
   ],
   "source": [
    "import spacy\n",
    "! python -m spacy download en\n",
    "! python -m spacy download fr"
   ]
  },
  {
   "cell_type": "code",
   "execution_count": 2,
   "metadata": {},
   "outputs": [],
   "source": [
    "# Load English/French Tokenizer, tagger, parser, NER\n",
    "fr_nlp = spacy.load('fr_core_news_sm')\n",
    "eng_nlp = spacy.load('en_core_web_sm')"
   ]
  },
  {
   "cell_type": "code",
   "execution_count": 3,
   "metadata": {},
   "outputs": [],
   "source": [
    "text1=(\"Quand Sebastian Thrun a commencé à travailler sur des voitures autonomes chez \",\"Les constructeurs automobiles me serraient la main et se détournaient parce que je ne l'étais pas\",\"ça vaut la peine d en parler, a déclaré Thrun, dans une interview avec Recode plus tôt  cette semaine.\")\n",
    "text2=(\"When Sebastian Thrun started working on self-driving cars at Google in 2007\",\"Few people outside of the company took him seriously.\",\"“I can tell you very senior CEOs of major American car companies would shake my hand and turn away because I wasn’t worth talking to,” said Thrun.\",\"In an interview with Recode earlier this week.\")"
   ]
  },
  {
   "cell_type": "code",
   "execution_count": 4,
   "metadata": {},
   "outputs": [
    {
     "name": "stdout",
     "output_type": "stream",
     "text": [
      "[('Quand', 'SCONJ'), ('Sebastian', 'PROPN'), ('Thrun', 'PROPN'), ('a', 'AUX'), ('commencé', 'VERB'), ('à', 'ADP'), ('travailler', 'VERB'), ('sur', 'ADP'), ('des', 'DET'), ('voitures', 'NOUN'), ('autonomes', 'NOUN'), ('chez', 'ADP')]\n",
      "[('Les', 'DET'), ('constructeurs', 'NOUN'), ('automobiles', 'ADJ'), ('me', 'PRON'), ('serraient', 'VERB'), ('la', 'DET'), ('main', 'NOUN'), ('et', 'CCONJ'), ('se', 'PRON'), ('détournaient', 'VERB'), ('parce', 'SCONJ'), ('que', 'SCONJ'), ('je', 'PRON'), ('ne', 'ADV'), (\"l'\", 'PRON'), ('étais', 'PROPN'), ('pas', 'ADV')]\n",
      "[('ça', 'PRON'), ('vaut', 'VERB'), ('la', 'DET'), ('peine', 'NOUN'), ('d', 'ADP'), ('en', 'PRON'), ('parler', 'VERB'), (',', 'PUNCT'), ('a', 'AUX'), ('déclaré', 'VERB'), ('Thrun', 'PROPN'), (',', 'PUNCT'), ('dans', 'ADP'), ('une', 'DET'), ('interview', 'NOUN'), ('avec', 'ADP'), ('Recode', 'PROPN'), ('plus', 'ADV'), ('tôt', 'ADV'), (' ', 'SPACE'), ('cette', 'DET'), ('semaine', 'NOUN'), ('.', 'PUNCT')]\n"
     ]
    }
   ],
   "source": [
    "#French NLP\n",
    "for text in text1:\n",
    "    print([(w.text, w.pos_) for w in fr_nlp(text)])"
   ]
  },
  {
   "cell_type": "code",
   "execution_count": 5,
   "metadata": {},
   "outputs": [
    {
     "name": "stdout",
     "output_type": "stream",
     "text": [
      "[('When', 'SCONJ'), ('Sebastian', 'PROPN'), ('Thrun', 'PROPN'), ('started', 'VERB'), ('working', 'VERB'), ('on', 'ADP'), ('self', 'NOUN'), ('-', 'PUNCT'), ('driving', 'VERB'), ('cars', 'NOUN'), ('at', 'ADP'), ('Google', 'PROPN'), ('in', 'ADP'), ('2007', 'NUM')]\n",
      "[('Few', 'ADJ'), ('people', 'NOUN'), ('outside', 'ADP'), ('of', 'ADP'), ('the', 'DET'), ('company', 'NOUN'), ('took', 'VERB'), ('him', 'PRON'), ('seriously', 'ADV'), ('.', 'PUNCT')]\n",
      "[('“', 'PUNCT'), ('I', 'PRON'), ('can', 'AUX'), ('tell', 'VERB'), ('you', 'PRON'), ('very', 'ADV'), ('senior', 'ADJ'), ('CEOs', 'NOUN'), ('of', 'ADP'), ('major', 'ADJ'), ('American', 'ADJ'), ('car', 'NOUN'), ('companies', 'NOUN'), ('would', 'AUX'), ('shake', 'VERB'), ('my', 'PRON'), ('hand', 'NOUN'), ('and', 'CCONJ'), ('turn', 'VERB'), ('away', 'ADV'), ('because', 'SCONJ'), ('I', 'PRON'), ('was', 'AUX'), ('n’t', 'PART'), ('worth', 'ADJ'), ('talking', 'VERB'), ('to', 'ADP'), (',', 'PUNCT'), ('”', 'PUNCT'), ('said', 'VERB'), ('Thrun', 'PROPN'), ('.', 'PUNCT')]\n",
      "[('In', 'ADP'), ('an', 'DET'), ('interview', 'NOUN'), ('with', 'ADP'), ('Recode', 'PROPN'), ('earlier', 'ADV'), ('this', 'DET'), ('week', 'NOUN'), ('.', 'PUNCT')]\n"
     ]
    }
   ],
   "source": [
    "#English NLP\n",
    "for text in text2:\n",
    "    print([(w.text, w.pos_) for w in eng_nlp(text)])"
   ]
  },
  {
   "cell_type": "code",
   "execution_count": null,
   "metadata": {},
   "outputs": [],
   "source": []
  }
 ],
 "metadata": {
  "kernelspec": {
   "display_name": "Python 3",
   "language": "python",
   "name": "python3"
  },
  "language_info": {
   "codemirror_mode": {
    "name": "ipython",
    "version": 3
   },
   "file_extension": ".py",
   "mimetype": "text/x-python",
   "name": "python",
   "nbconvert_exporter": "python",
   "pygments_lexer": "ipython3",
   "version": "3.12.9"
  }
 },
 "nbformat": 4,
 "nbformat_minor": 2
}
